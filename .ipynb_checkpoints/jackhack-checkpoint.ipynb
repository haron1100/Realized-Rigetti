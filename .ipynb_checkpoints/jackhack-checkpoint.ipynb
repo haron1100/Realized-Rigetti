{
 "cells": [
  {
   "cell_type": "code",
   "execution_count": 71,
   "metadata": {},
   "outputs": [],
   "source": [
    "from pyquil.quil import Program\n",
    "from pyquil.api import QVMConnection"
   ]
  },
  {
   "cell_type": "code",
   "execution_count": 5,
   "metadata": {},
   "outputs": [],
   "source": [
    "import os\n",
    "\n",
    "API_KEY = 'nmRPAVunQl19TtQz9eMd11iiIsArtUDTaEnsSV6u'\n",
    "USER_ID = 'b22efce9-9652-4e13-90e3-819f8e96e6ae'\n",
    "\n",
    "PYQUIL_CONFIG = f\"\"\"\n",
    "[Rigetti Forest]\n",
    "url: https://api.rigetti.com/qvm\n",
    "key: {API_KEY}\n",
    "user_id: {USER_ID}\n",
    "\"\"\"\n",
    "\n",
    "with open(os.path.expanduser('~/.pyquil_config'), 'w') as f:\n",
    "    f.write(PYQUIL_CONFIG)"
   ]
  },
  {
   "cell_type": "code",
   "execution_count": 72,
   "metadata": {},
   "outputs": [],
   "source": [
    "def execute(quil_program, trials=1000, silent=False, raw=False):\n",
    "    \"\"\"\n",
    "    Thin function that takes a low-level Quil program and returns the\n",
    "    resulting probability distribution.\n",
    "    \"\"\"\n",
    "\n",
    "    qvm = QVMConnection()\n",
    "    results = qvm.run(Program(quil_program), trials=trials)\n",
    "    results = list(map(tuple, results))\n",
    "\n",
    "    if not silent:\n",
    "        observed_results = set(results)\n",
    "        for result in sorted(observed_results):\n",
    "            bitstring = ''.join(reversed(list(map(str, result))))\n",
    "            print(f'|{bitstring}> state: {results.count(result)/len(results)} [{results.count(result)}/{len(results)}]')\n",
    "        if raw:\n",
    "            print(f'Results: {results}')\n",
    "\n",
    "def plot(quil_program):\n",
    "    qvm = QVMConnection()\n",
    "    return qvm.wavefunction(Program(quil_program)).plot()    "
   ]
  },
  {
   "cell_type": "code",
   "execution_count": 77,
   "metadata": {},
   "outputs": [
    {
     "data": {
      "image/png": "[encoded data removed]",
      "text/plain": [
       "<Figure size 432x288 with 1 Axes>"
      ]
     },
     "metadata": {},
     "output_type": "display_data"
    }
   ],
   "source": [
    "plot(\"\"\"\n",
    "H 1\n",
    "H 2\n",
    "H 3\n",
    "H 4\n",
    "\"\"\")"
   ]
  },
  {
   "cell_type": "code",
   "execution_count": 38,
   "metadata": {},
   "outputs": [],
   "source": [
    "def execute_alt(quil_program, trials=100, silent=False, raw=False):\n",
    "    \"\"\"\n",
    "    Thin function that takes a low-level Quil program and returns the\n",
    "    resulting probability distribution.\n",
    "    \"\"\"\n",
    "\n",
    "    qvm = QVMConnection()\n",
    "    results = qvm.run(Program(quil_program), trials=trials)\n",
    "    results = list(map(tuple, results))\n",
    "\n",
    "    if not silent:\n",
    "        observed_results = set(results)\n",
    "        for result in sorted(observed_results):\n",
    "            bitstring = ''.join(reversed(list(map(str, result))))\n",
    "            failer = tester(list(map(str, result)))\n",
    "            print(str(failer) + f'|{bitstring}> state: {results.count(result)/len(results)} [{results.count(result)}/{len(results)}]')\n",
    "        if raw:\n",
    "            print(f'Results: {results}')\n",
    "\n",
    "def plot_alt(quil_program):\n",
    "    qvm = QVMConnection()\n",
    "    outcomes = (qvm.wavefunction(Program(quil_program)).get_outcome_probs())\n",
    "    good_list = {}\n",
    "    bad_list = {}\n",
    "    for round in outcomes:\n",
    "        if tester(list(round)):\n",
    "            good_list[round]=outcomes[round]\n",
    "        else:\n",
    "            bad_list[round]=outcomes[round]\n",
    "            \n",
    "    return (good_list,bad_list)"
   ]
  },
  {
   "cell_type": "code",
   "execution_count": 35,
   "metadata": {},
   "outputs": [],
   "source": [
    "import numpy as np\n",
    "def all_same(items):\n",
    "    return all(x == items[0] for x in items)\n",
    "\n",
    "def tester(bitstring,n=2,m=2):\n",
    "   # print(np.array(bitstring))\n",
    "    mySplit = np.split(np.array(bitstring),n)\n",
    "    for line in mySplit:\n",
    "        if not all_same(line):\n",
    "            mySplit = np.transpose(mySplit)\n",
    "            for col in mySplit:\n",
    "                if not all_same(col):\n",
    "                    return False\n",
    "            return True\n",
    "    return True\n",
    "            "
   ]
  },
  {
   "cell_type": "code",
   "execution_count": 36,
   "metadata": {},
   "outputs": [
    {
     "data": {
      "text/plain": [
       "True"
      ]
     },
     "execution_count": 36,
     "metadata": {},
     "output_type": "execute_result"
    }
   ],
   "source": [
    "tester([1,0,1,0,1,0],n=3)"
   ]
  },
  {
   "cell_type": "code",
   "execution_count": 39,
   "metadata": {},
   "outputs": [
    {
     "name": "stdout",
     "output_type": "stream",
     "text": [
      "({'0000': 0.06249999999999996, '0011': 0.06249999999999996, '0101': 0.06249999999999996, '1010': 0.06249999999999996, '1100': 0.06249999999999996, '1111': 0.06249999999999996}, {'0001': 0.06249999999999996, '0010': 0.06249999999999996, '0100': 0.06249999999999996, '0110': 0.06249999999999996, '0111': 0.06249999999999996, '1000': 0.06249999999999996, '1001': 0.06249999999999996, '1011': 0.06249999999999996, '1101': 0.06249999999999996, '1110': 0.06249999999999996})\n"
     ]
    }
   ],
   "source": [
    "print(plot_alt(\"\"\"\n",
    "H 1\n",
    "H 2\n",
    "H 3\n",
    "H 4\n",
    "\"\"\"))"
   ]
  },
  {
   "cell_type": "code",
   "execution_count": null,
   "metadata": {},
   "outputs": [],
   "source": []
  }
 ],
 "metadata": {
  "kernelspec": {
   "display_name": "Python 3",
   "language": "python",
   "name": "python3"
  },
  "language_info": {
   "codemirror_mode": {
    "name": "ipython",
    "version": 3
   },
   "file_extension": ".py",
   "mimetype": "text/x-python",
   "name": "python",
   "nbconvert_exporter": "python",
   "pygments_lexer": "ipython3",
   "version": "3.6.4"
  }
 },
 "nbformat": 4,
 "nbformat_minor": 2
}
